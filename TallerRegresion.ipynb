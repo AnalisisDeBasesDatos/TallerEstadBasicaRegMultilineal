{
 "cells": [
  {
   "cell_type": "markdown",
   "metadata": {
    "cell_id": "964fae3bed5148ffb91703334a8ac390",
    "deepnote_cell_type": "markdown",
    "id": "Usg2IvUntLXA"
   },
   "source": [
    "# Taller de Estadística Básica y Análisis de regresión Multilineal"
   ]
  },
  {
   "cell_type": "markdown",
   "metadata": {
    "cell_id": "f07b180f7d7a4bdebc4ebd7b2802be1f",
    "deepnote_cell_type": "markdown",
    "tags": []
   },
   "source": [
    "Instalamos e importamos los paquetes de Python que usaremos en los análisis."
   ]
  },
  {
   "cell_type": "code",
   "execution_count": null,
   "metadata": {
    "cell_id": "ae9b8f29678a4a99a48724c4c37bbf3d",
    "deepnote_cell_type": "code",
    "deepnote_to_be_reexecuted": false,
    "execution_millis": 2171,
    "execution_start": 1666896281136,
    "id": "IuKtqbTn7tp6",
    "source_hash": "f9474f7a"
   },
   "outputs": [],
   "source": [
    "import pandas as pd\n",
    "import numpy as np\n",
    "\n",
    "from numpy import int64, float64\n",
    "\n",
    "import matplotlib.pylab as plt\n",
    "import matplotlib.pyplot\n",
    "import seaborn as sns\n",
    "from plotnine import *\n",
    "from pyparsing.helpers import line"
   ]
  },
  {
   "cell_type": "markdown",
   "metadata": {
    "cell_id": "d33a559a8dd046ae8e56a0275c564cff",
    "deepnote_cell_type": "markdown",
    "id": "8dFockU33bh1"
   },
   "source": [
    "## Ejercicio 1\n",
    "\n",
    "Considere los archivos de datos de las páginas del Banco Mundial para Colombia:\n",
    "\n",
    "<https://data.worldbank.org/indicator/SP.POP.65UP.TO?end=2021&amp;amp;locations=CO&amp;amp;start=1960>\n",
    "\n",
    "<https://data.worldbank.org/indicator/SP.POP.0014.TO.ZS?end=2021&amp;amp;locations=CO&amp;amp;start=1960>"
   ]
  },
  {
   "cell_type": "markdown",
   "metadata": {
    "cell_id": "d06f3d4d78ca421ca1024945e96b913f",
    "deepnote_cell_type": "markdown",
    "id": "K6e7Uke43pCt"
   },
   "source": [
    "Primero hacemos una extracción de los datos que vamos a utilizar de los archivos excel obtenidos en las URL. "
   ]
  },
  {
   "cell_type": "code",
   "execution_count": null,
   "metadata": {
    "cell_id": "89a1987070524b8c8e2b6681a01ff926",
    "deepnote_cell_type": "code",
    "deepnote_to_be_reexecuted": false,
    "execution_millis": 780,
    "execution_start": 1666896283311,
    "id": "3lnZnsZa3oVW",
    "source_hash": "8d16952b"
   },
   "outputs": [],
   "source": [
    "data_poblation_65_above = pd.read_csv('https://raw.githubusercontent.com/AnalisisDeBasesDatos/TallerEstadBasicaRegMultilineal/main/poblation64andabove.csv', skiprows=4 )\n",
    "data_poblation_0_14 = pd.read_csv('https://raw.githubusercontent.com/AnalisisDeBasesDatos/TallerEstadBasicaRegMultilineal/main/poblation_0_14.csv', skiprows=4 )"
   ]
  },
  {
   "cell_type": "code",
   "execution_count": null,
   "metadata": {
    "cell_id": "b47d69453a9d4d00a7cf305bce702626",
    "deepnote_cell_type": "code",
    "deepnote_to_be_reexecuted": false,
    "execution_millis": 1,
    "execution_start": 1666896284099,
    "id": "zxc2HLTq25EB",
    "source_hash": "fcc5e7fd"
   },
   "outputs": [],
   "source": [
    "data_poblation_col_65_above = data_poblation_65_above.iloc[[45], 4:66].transpose()\n",
    "data_poblation_col_65_above = data_poblation_col_65_above.reset_index()\n",
    "data_poblation_col_65_above.columns = ['year', 'percent']\n",
    "data_poblation_col_65_above['year'] = data_poblation_col_65_above['year'].astype(int64)\n",
    "data_poblation_col_65_above['percent'] = data_poblation_col_65_above['percent'].astype(float64)"
   ]
  },
  {
   "cell_type": "code",
   "execution_count": null,
   "metadata": {
    "cell_id": "16128aecedd04908ada7b45364141632",
    "deepnote_cell_type": "code",
    "deepnote_to_be_reexecuted": false,
    "execution_millis": 6,
    "execution_start": 1666896284106,
    "id": "9zdqh-8DXb8t",
    "source_hash": "f983da2"
   },
   "outputs": [],
   "source": [
    "data_poblation_col_0_14= data_poblation_0_14.iloc[ [45], 4:66].transpose()\n",
    "data_poblation_col_0_14 = data_poblation_col_0_14.reset_index()\n",
    "data_poblation_col_0_14.columns = ['year', 'percent']\n",
    "data_poblation_col_0_14['year'] = data_poblation_col_0_14['year'].astype(int64)\n",
    "data_poblation_col_0_14['percent'] = data_poblation_col_0_14['percent'].astype(float64)"
   ]
  },
  {
   "cell_type": "markdown",
   "metadata": {
    "cell_id": "d665f7e15fcc42b5a5878211e8e7e0d8",
    "deepnote_cell_type": "markdown",
    "id": "eBDQJ8pME3yv"
   },
   "source": [
    "Usamos la libreria plotnine para la visualizion de dispersión de los datos."
   ]
  },
  {
   "cell_type": "code",
   "execution_count": null,
   "metadata": {
    "cell_id": "1b58c8b7290b4705b24ceb3c06095929",
    "colab": {
     "base_uri": "https://localhost:8080/",
     "height": 491
    },
    "deepnote_cell_type": "code",
    "deepnote_to_be_reexecuted": false,
    "execution_millis": 615,
    "execution_start": 1666896284124,
    "id": "-dHIMEq4FJTi",
    "outputId": "6ba425aa-153a-4249-aa1c-371f64fe69fe",
    "source_hash": "162451f"
   },
   "outputs": [],
   "source": [
    "(ggplot(data_poblation_col_65_above, aes(x='year', y='percent'))\n",
    "+ geom_point(fill=\"#94FC26\",colour=\"#94FC26\")\n",
    "+ ggtitle('Porcentaje Población x edad >= 65 x Año ')\n",
    "+ labs(x='Año', y='Porcentaje Población'))"
   ]
  },
  {
   "cell_type": "code",
   "execution_count": null,
   "metadata": {
    "cell_id": "70e0e5dbe0c34d0da8e4fa41aa65548b",
    "colab": {
     "base_uri": "https://localhost:8080/",
     "height": 491
    },
    "deepnote_cell_type": "code",
    "deepnote_to_be_reexecuted": false,
    "execution_millis": 226,
    "execution_start": 1666896284539,
    "id": "C-YcarLnZU8M",
    "outputId": "dd3f0d27-8686-44a3-be3d-3c21b8bf0cca",
    "source_hash": "fc72055"
   },
   "outputs": [],
   "source": [
    "(ggplot(data_poblation_col_0_14, aes(x='year', y='percent'))\n",
    "+ geom_point(fill=\"#94FC26\",colour=\"#94FC26\")\n",
    "+ ggtitle('Porcentaje Población x edad 0-14 x Año ')\n",
    "+ labs(x='Año', y='Porcentaje Población'))"
   ]
  },
  {
   "cell_type": "markdown",
   "metadata": {
    "cell_id": "8282a51d745b40899f0e917799467543",
    "deepnote_cell_type": "markdown",
    "id": "Xo3Bo2Lqs7BI"
   },
   "source": [
    "### Use el método de regresión lineal para ajustar una función no lineal o lineal a los siguientes pares de datos:\n"
   ]
  },
  {
   "cell_type": "markdown",
   "metadata": {
    "cell_id": "d0d00444a0474aed9e97a3cf0cb15b35",
    "deepnote_cell_type": "markdown",
    "id": "MPJe6IS1Ohhr"
   },
   "source": [
    "#### Porcentaje de población total vs. Años para Población con edades ≥ 65 años\n",
    "\n",
    "Realizaremos una regresión lineal, polinomial y exponencial de los porcentajes de edades >= 65 X Año.\n",
    "- Regresion Lineal:"
   ]
  },
  {
   "cell_type": "code",
   "execution_count": null,
   "metadata": {
    "cell_id": "b9f62d9fa367464f846eab0c7f49c113",
    "deepnote_cell_type": "code",
    "deepnote_to_be_reexecuted": false,
    "execution_millis": 1,
    "execution_start": 1666896284791,
    "source_hash": "61a246d6",
    "tags": []
   },
   "outputs": [],
   "source": [
    "X = data_poblation_col_65_above['year'].values\n",
    "Y = data_poblation_col_65_above['percent'].values"
   ]
  },
  {
   "cell_type": "code",
   "execution_count": null,
   "metadata": {
    "cell_id": "74b9217e196c47cabd4b2bae74fc6c08",
    "deepnote_cell_type": "code",
    "deepnote_to_be_reexecuted": false,
    "execution_millis": 94,
    "execution_start": 1666896284792,
    "source_hash": "ee1eaaa",
    "tags": []
   },
   "outputs": [],
   "source": [
    "a = np.inner(X,X)\n",
    "b = np.sum(X)\n",
    "c = np.inner(X,Y)\n",
    "d = np.sum(Y)\n",
    "N = len(X)\n",
    "delta = (a)*(N)-(b**2)\n",
    "A = (N*c-b*d)/delta\n",
    "B = (a*d-b*c)/delta\n",
    "print('B: ', B, \"A: \", A)\n",
    "data_poblation_col_65_above['y_pred_lineal']= A*X+B"
   ]
  },
  {
   "cell_type": "markdown",
   "metadata": {
    "cell_id": "ddc683f480d74e8cb11f40ff0edf4a21",
    "deepnote_cell_type": "markdown",
    "tags": []
   },
   "source": [
    "- Regresión Exponencial"
   ]
  },
  {
   "cell_type": "code",
   "execution_count": null,
   "metadata": {
    "cell_id": "862d26fbcb5b45ef9462b0d4fce3f564",
    "deepnote_cell_type": "code",
    "deepnote_to_be_reexecuted": false,
    "execution_millis": 101,
    "execution_start": 1666896284793,
    "source_hash": "13f12adf",
    "tags": []
   },
   "outputs": [],
   "source": [
    "Y_log = np.log(Y) #Conversion de los datos y en log(y)\n",
    "a = np.inner(X,X)\n",
    "b = np.sum(X)\n",
    "c = np.inner(X,Y_log)\n",
    "d = np.sum(Y_log)\n",
    "N = len(X)\n",
    "delta = (a)*(N)-(b**2)\n",
    "A = (N*c-b*d)/delta\n",
    "B = np.exp((a*d-b*c)/delta)\n",
    "print('k: ', B, \"M: \", A)\n",
    "data_poblation_col_65_above['y_pred_exp'] = B*(np.exp(A*X))"
   ]
  },
  {
   "cell_type": "markdown",
   "metadata": {
    "cell_id": "346fe7c5ba114b6185b9a2409d7500ad",
    "deepnote_cell_type": "markdown",
    "tags": []
   },
   "source": [
    "- Regresión Potencial"
   ]
  },
  {
   "cell_type": "code",
   "execution_count": null,
   "metadata": {
    "cell_id": "180790b63dc743a1b2a5abc5e6377547",
    "deepnote_cell_type": "code",
    "deepnote_table_loading": false,
    "deepnote_table_state": {
     "filters": [],
     "pageIndex": 0,
     "pageSize": 10,
     "sortBy": []
    },
    "deepnote_to_be_reexecuted": false,
    "execution_millis": 155,
    "execution_start": 1666896284833,
    "source_hash": "4c608477",
    "tags": []
   },
   "outputs": [],
   "source": [
    "X_log = np.log(X) #Conversion de los datos x en log(x)\n",
    "a = np.inner(X_log,X_log)\n",
    "b = np.sum(X_log)\n",
    "c = np.inner(X_log,Y_log)\n",
    "d = np.sum(Y_log)\n",
    "N = len(X)\n",
    "delta = (a)*(N)-(b**2)\n",
    "A = (N*c-b*d)/delta\n",
    "B = np.exp((a*d-b*c)/delta) # Nos determina el k de la función potencial\n",
    "data_poblation_col_65_above['y_pred_pot'] = B*X**A\n",
    "print('k: ', B, \"M: \", A)\n",
    "data_poblation_col_65_above"
   ]
  },
  {
   "cell_type": "markdown",
   "metadata": {
    "cell_id": "8d4672a9a4ed4badae25dea354250316",
    "deepnote_cell_type": "markdown",
    "id": "6ob7f6qilZMg"
   },
   "source": [
    "Vamos a ver algunas medidas para ver cual de las regresiones es la más adecuada para nuestros datos, donde:\n",
    "* `sse`: Suma cuadrática de los error\n",
    "* `tse`: Varianza de los errores\n",
    "* `r2`: Relación de las simétricas\n",
    "\n",
    "Si `r2` es muy cercano a 1, quiere decir que la relacion entre las simétricas es muy buena.\n",
    "\n",
    "Primero miramemos estos valores para la primera regresión donde tenemos:"
   ]
  },
  {
   "cell_type": "code",
   "execution_count": null,
   "metadata": {
    "cell_id": "d84bf3d6b1df4fbdb2e44503fa0b3531",
    "deepnote_cell_type": "code",
    "deepnote_to_be_reexecuted": false,
    "execution_millis": 1,
    "execution_start": 1666896284902,
    "source_hash": "3433cebe",
    "tags": []
   },
   "outputs": [],
   "source": [
    "def relation(Y_pred):\n",
    "    sse = sum((Y-Y_pred)**2)\n",
    "    tse = (len(Y)-1)*np.var(Y)\n",
    "    r2 = 1 - sse/tse\n",
    "    return r2"
   ]
  },
  {
   "cell_type": "code",
   "execution_count": null,
   "metadata": {
    "cell_id": "1caa2d8f9069416f96bc6e3073124ae4",
    "deepnote_cell_type": "code",
    "deepnote_to_be_reexecuted": false,
    "execution_millis": 91,
    "execution_start": 1666896284903,
    "source_hash": "6eb867c1",
    "tags": []
   },
   "outputs": [],
   "source": [
    "print(\"La relacion entre la regresion lineal y la simetria de los datos es: \", relation(data_poblation_col_65_above['y_pred_lineal']))\n",
    "print(\"La relacion entre la regresion exponencial y la simetria de los datos es: \", relation(data_poblation_col_65_above['y_pred_exp']))\n",
    "print(\"La relacion entre la regresion potencial y la simetria de los datos es: \", relation(data_poblation_col_65_above['y_pred_pot']))\n"
   ]
  },
  {
   "cell_type": "markdown",
   "metadata": {
    "cell_id": "53c29cf181714742a132d2549b4ae180",
    "deepnote_cell_type": "text-cell-p",
    "formattedRanges": [],
    "is_collapsed": false,
    "tags": []
   },
   "source": [
    "Podemos ver que las relaciones de la regresión exponencial y potencial tiene casi la misma relación con el ploteo de los datos, por lo tanto en la grafica, estarán sobrexpuestas una de la otra."
   ]
  },
  {
   "cell_type": "code",
   "execution_count": null,
   "metadata": {
    "cell_id": "51c27942bd184a028019c1c8d6ee5388",
    "colab": {
     "base_uri": "https://localhost:8080/"
    },
    "deepnote_cell_type": "code",
    "deepnote_to_be_reexecuted": false,
    "execution_millis": 451,
    "execution_start": 1666896284903,
    "id": "AGeE6TysUmJy",
    "outputId": "2e12c909-84d0-4d89-9ed6-d073ac37abf3",
    "source_hash": "aab28671"
   },
   "outputs": [],
   "source": [
    "(ggplot(data_poblation_col_65_above, aes(x='year', y='percent'))\n",
    "+ geom_point(fill=\"#B100EB\",colour=\"#B100EB\")\n",
    "+ ggtitle('Porcentaje Población x edad >= 64 x Año ')\n",
    "+ labs(x='Año', y='Porcentaje Población')\n",
    "+ geom_line(aes( y='y_pred_lineal'), colour=\"#E61E10\")\n",
    "+ geom_line(aes( y='y_pred_exp'), colour=\"#14F54A\")\n",
    "+ geom_line(aes( y='y_pred_pot'), colour=\"#290BFF\"))\n"
   ]
  },
  {
   "cell_type": "markdown",
   "metadata": {
    "cell_id": "f99c7c5da4e54b9a81ba911c64683a53",
    "deepnote_cell_type": "markdown",
    "id": "WbKXN0aD9izX"
   },
   "source": [
    "#### Porcentaje de población total vs. Años para Población con edades de 0 a 14 años.\n",
    "\n",
    "Realizaremos una regresión lineal y potencial de los porcentajes de edades de 0-14 X Año.\n",
    "- Regresion lineal: "
   ]
  },
  {
   "cell_type": "code",
   "execution_count": null,
   "metadata": {
    "cell_id": "8f105a4dd8f642d98105669e796905fa",
    "deepnote_cell_type": "code",
    "deepnote_to_be_reexecuted": false,
    "execution_millis": 0,
    "execution_start": 1666896285357,
    "source_hash": "e3c33bf9",
    "tags": []
   },
   "outputs": [],
   "source": [
    "X = data_poblation_col_0_14['year'].values\n",
    "Y = data_poblation_col_0_14['percent'].values"
   ]
  },
  {
   "cell_type": "code",
   "execution_count": null,
   "metadata": {
    "cell_id": "11565791ce9540ae9283698ff60f385c",
    "deepnote_cell_type": "code",
    "deepnote_to_be_reexecuted": false,
    "execution_millis": 8,
    "execution_start": 1666896285359,
    "source_hash": "fb1fd81",
    "tags": []
   },
   "outputs": [],
   "source": [
    "a = np.inner(X,X)\n",
    "b = np.sum(X)\n",
    "c = np.inner(X,Y)\n",
    "d = np.sum(Y)\n",
    "N = len(X)\n",
    "delta = (a)*(N)-(b**2)\n",
    "A = (N*c-b*d)/delta\n",
    "B = (a*d-b*c)/delta\n",
    "print('B: ', B, \"A: \", A)\n",
    "data_poblation_col_0_14['y_pred_lineal']= A*X+B"
   ]
  },
  {
   "cell_type": "markdown",
   "metadata": {
    "cell_id": "298f067617064bd4991fb7e66b6f0d83",
    "deepnote_cell_type": "markdown",
    "tags": []
   },
   "source": [
    "- Regresion Potencial"
   ]
  },
  {
   "cell_type": "code",
   "execution_count": null,
   "metadata": {
    "cell_id": "f538862478fe47caa40f3d9667f4a892",
    "deepnote_cell_type": "code",
    "deepnote_to_be_reexecuted": false,
    "execution_millis": 10,
    "execution_start": 1666896285384,
    "source_hash": "d61d613e",
    "tags": []
   },
   "outputs": [],
   "source": [
    "X_log = np.log(X) #Conversion de los datos x en log(x)\n",
    "Y_log = np.log(Y) #Conversion de los datos y en log(y)\n",
    "a = np.inner(X_log,X_log)\n",
    "b = np.sum(X_log)\n",
    "c = np.inner(X_log,Y_log)\n",
    "d = np.sum(Y_log)\n",
    "N = len(X)\n",
    "delta = (a)*(N)-(b**2)\n",
    "A = (N*c-b*d)/delta\n",
    "B = np.exp((a*d-b*c)/delta) # Nos determina el k de la función potencial\n",
    "print('k: ', B, \"M: \", A)\n",
    "data_poblation_col_0_14['y_pred_pot'] = B*X**A\n",
    "data_poblation_col_0_14"
   ]
  },
  {
   "cell_type": "code",
   "execution_count": null,
   "metadata": {
    "cell_id": "a4324cbefbcf43a1b19965d64f6137cd",
    "colab": {
     "base_uri": "https://localhost:8080/"
    },
    "deepnote_cell_type": "code",
    "deepnote_to_be_reexecuted": false,
    "execution_millis": 8,
    "execution_start": 1666896285392,
    "id": "gUe8o64d9izY",
    "outputId": "d6ecf286-88d7-4588-9d24-3fd0c982a7e6",
    "source_hash": "15fa53bc"
   },
   "outputs": [],
   "source": [
    "print(\"La relacion entre la regresion lineal y la simetria de los datos es: \", relation(data_poblation_col_0_14['y_pred_lineal']))\n",
    "print(\"La relacion entre la regresion potencial y la simetria de los datos es: \", relation(data_poblation_col_0_14['y_pred_pot']))"
   ]
  },
  {
   "cell_type": "code",
   "execution_count": null,
   "metadata": {
    "cell_id": "bb481c2fba0b49f3aa7f56579d4db16f",
    "colab": {
     "base_uri": "https://localhost:8080/"
    },
    "deepnote_cell_type": "code",
    "deepnote_to_be_reexecuted": false,
    "execution_millis": 403,
    "execution_start": 1666896285441,
    "id": "p_N-AX4A9iza",
    "outputId": "15af799d-abfd-4221-c771-b1814388cbdb",
    "source_hash": "7def2dd4"
   },
   "outputs": [],
   "source": [
    "(ggplot(data_poblation_col_0_14, aes(x='year', y='percent'))\n",
    "+ geom_point(fill=\"#B100EB\",colour=\"#B100EB\")\n",
    "+ ggtitle('Porcentaje Población x edad 0-14 x Año ')\n",
    "+ labs(x='Año', y='Porcentaje Población')\n",
    "+ geom_line(data_poblation_col_0_14, aes(x='year', y='y_pred_lineal'),colour=\"#9EEB02\")\n",
    "+ geom_line(data_poblation_col_0_14, aes(x='year', y='y_pred_pot'), colour=\"#EB7413\"))"
   ]
  },
  {
   "cell_type": "markdown",
   "metadata": {
    "cell_id": "f4769ca543874e2da2930173f75e928f",
    "deepnote_cell_type": "markdown",
    "id": "0f0B7U-PECjL"
   },
   "source": [
    "### Expresiones algebraicas de las funciones\n",
    "Las expreciones de las funciones de prediccion seleccionadas para los datos fueron:\n",
    "1. Porcentaje de población total vs. Años para Población con edades >= 65 años: \n",
    "        $$y = 5.848278004739217\\times 10^{-17}e^{0.01953344485763856x}$$ \n",
    "2. Porcentaje Población x edad 0-14 x Año:\n",
    "        $$y = 917.0057724131613 - 0.4426192572125933x$$\n",
    "\n",
    "Se elijieron en base a los datos de los errores cuadraticos y el valor de relación entre las dos graficas evaluadas anteriormente, igual es facil notar en las tablas obtenidas que tan cerca estan los valores obtenidos en cada regresion con la columna de los porcentajes."
   ]
  },
  {
   "cell_type": "markdown",
   "metadata": {
    "cell_id": "68b52236854d477b8e7c134c45b13ecb",
    "deepnote_cell_type": "markdown",
    "tags": []
   },
   "source": [
    "### Use las funciones calculadas en el paso anterior para estimar:"
   ]
  },
  {
   "cell_type": "markdown",
   "metadata": {
    "cell_id": "22d2c899983c4c18b3d8429398fb5a23",
    "deepnote_cell_type": "text-cell-p",
    "formattedRanges": [],
    "is_collapsed": false,
    "tags": []
   },
   "source": [
    "Para este punto hacemos el uso de wolfram para evaluar los siguientes puntos"
   ]
  },
  {
   "cell_type": "markdown",
   "metadata": {
    "cell_id": "3e90be9c391c474aa3e4f48aba2213ec",
    "deepnote_cell_type": "markdown",
    "tags": []
   },
   "source": [
    "a. Los años para las poblaciones para los cuales la poblacion con edades >=65 son 50%, 60% y 70%\n",
    "- Para $$y=50$$, $$x_1\\approx 2114$$\n",
    "- Para $$y=60$$, $$x_1\\approx 2123$$\n",
    "- Para $$y=70$$, $$x_1\\approx 2131$$\n",
    "\n",
    "b. Los años para las poblaciones para los cuales la poblacion con edades entre 0-14 son 20%, 15% y 10%\n",
    "- Para $$y=20$$, $$x_1\\approx 2026$$\n",
    "- Para $$y=15$$, $$x_1\\approx 2038$$\n",
    "- Para $$y=10$$, $$x_1\\approx 2049$$"
   ]
  },
  {
   "cell_type": "markdown",
   "metadata": {
    "cell_id": "083210af3c5242c996bd54b3f417275b",
    "deepnote_cell_type": "markdown",
    "tags": []
   },
   "source": [
    "### Calcule las medidas estadísticas básicas para estas poblaciones. ¿Qué indican cada una de las medidas?"
   ]
  },
  {
   "cell_type": "markdown",
   "metadata": {
    "cell_id": "c18147d1a16144b18cbbf053c5b86105",
    "deepnote_cell_type": "markdown",
    "tags": []
   },
   "source": [
    "Usaremos la función `describe()` para obtner los medidas basicas para los porcentajes de poblacion\n",
    "- Porcentaje poblacion >= 65:"
   ]
  },
  {
   "cell_type": "code",
   "execution_count": null,
   "metadata": {
    "cell_id": "0ceac9956c4a406981ca93db3e77dcb3",
    "deepnote_cell_type": "code",
    "deepnote_to_be_reexecuted": false,
    "execution_millis": 58,
    "execution_start": 1666896285871,
    "source_hash": "fae30cd7",
    "tags": []
   },
   "outputs": [],
   "source": [
    "data_poblation_col_65_above['percent'].describe()"
   ]
  },
  {
   "cell_type": "markdown",
   "metadata": {
    "cell_id": "fb237845d4404b1ebbdb297dca0a92f0",
    "deepnote_cell_type": "text-cell-p",
    "formattedRanges": [],
    "is_collapsed": false,
    "tags": []
   },
   "source": [
    "De estas medidas estadísticas podemos concluir lo siguiente:"
   ]
  },
  {
   "cell_type": "markdown",
   "metadata": {
    "cell_id": "bf0a9232-d832-4e11-80d6-e693faf1665c",
    "deepnote_cell_type": "text-cell-bullet",
    "formattedRanges": [],
    "is_collapsed": false,
    "tags": []
   },
   "source": [
    "- Se cuentan con 62 registros (1960-2021)"
   ]
  },
  {
   "cell_type": "markdown",
   "metadata": {
    "cell_id": "1d1b5efd-7b83-4ee0-be5d-8a65b816772f",
    "deepnote_cell_type": "text-cell-bullet",
    "formattedRanges": [],
    "is_collapsed": false,
    "tags": []
   },
   "source": [
    "- La media aritmética del porcentaje de personas mayores de 65 años sobre el total de población es de aproximadamente el 5% con una desviación estándar de 1.8%."
   ]
  },
  {
   "cell_type": "markdown",
   "metadata": {
    "cell_id": "67132237-2fba-402d-8ef9-f6f9ed321052",
    "deepnote_cell_type": "text-cell-bullet",
    "formattedRanges": [],
    "is_collapsed": false,
    "tags": []
   },
   "source": [
    "- La mediana del porcentaje de personas mayores de 65 años sobre el total de población es del 4.2%, el percentil 25 y 75 son 3.2% y 5.9%"
   ]
  },
  {
   "cell_type": "markdown",
   "metadata": {
    "cell_id": "53576be0-054e-4827-9ddb-4c8044ff1eac",
    "deepnote_cell_type": "text-cell-bullet",
    "formattedRanges": [],
    "is_collapsed": false,
    "tags": []
   },
   "source": [
    "- Debido a que la mediana(4.2%) es mayor a la media(5%) podemos concluir que la distribución de los porcentajes tienen una asimetría hacia la derecha."
   ]
  },
  {
   "cell_type": "markdown",
   "metadata": {
    "cell_id": "77e2f89de21d4cf798e18f21a0b77ae1",
    "deepnote_cell_type": "markdown",
    "tags": []
   },
   "source": [
    "- Porcentaje poblacion entre 0-14:"
   ]
  },
  {
   "cell_type": "code",
   "execution_count": null,
   "metadata": {
    "allow_embed": false,
    "cell_id": "e94d881c92044ac9a20ec6f5acc053a7",
    "deepnote_cell_type": "code",
    "deepnote_to_be_reexecuted": false,
    "execution_millis": 10,
    "execution_start": 1666896285920,
    "source_hash": "93ebf093",
    "tags": []
   },
   "outputs": [],
   "source": [
    "data_poblation_col_0_14['percent'].describe()"
   ]
  },
  {
   "cell_type": "markdown",
   "metadata": {
    "cell_id": "d07d56d92ad84c999e70695ad444be83",
    "deepnote_cell_type": "text-cell-p",
    "formattedRanges": [],
    "is_collapsed": false,
    "tags": []
   },
   "source": [
    "De estas medidas estadísticas podemos concluir lo siguiente:"
   ]
  },
  {
   "cell_type": "markdown",
   "metadata": {
    "cell_id": "df251325-68fe-474d-949b-cd736ccf2871",
    "deepnote_cell_type": "text-cell-bullet",
    "formattedRanges": [],
    "is_collapsed": false,
    "tags": []
   },
   "source": [
    "- Se cuentan con 62 registros (1960-2021)"
   ]
  },
  {
   "cell_type": "markdown",
   "metadata": {
    "cell_id": "eeccc0a8-d9fe-4863-96ed-3ee2342a05e1",
    "deepnote_cell_type": "text-cell-bullet",
    "formattedRanges": [],
    "is_collapsed": false,
    "tags": []
   },
   "source": [
    "- La media aritmética del porcentaje de personas menores de 14 años sobre el total de población es de aproximadamente el 35% con una desviación estándar de 8%."
   ]
  },
  {
   "cell_type": "markdown",
   "metadata": {
    "cell_id": "19abe06a-b64d-4388-a4f4-a2d0acb18d00",
    "deepnote_cell_type": "text-cell-bullet",
    "formattedRanges": [],
    "is_collapsed": false,
    "tags": []
   },
   "source": [
    "- La mediana del porcentaje de personas menores de 14 años sobre el total de población es del 35%, el percentil 25 y 75 son 29.9% y 43.2%"
   ]
  },
  {
   "cell_type": "markdown",
   "metadata": {
    "cell_id": "85cf3331-1250-4629-8b4d-5f04208d61eb",
    "deepnote_cell_type": "text-cell-bullet",
    "formattedRanges": [],
    "is_collapsed": false,
    "tags": []
   },
   "source": [
    "- Debido a que la mediana y le media toman aproximadamente el mismo valor, podemos decir que la distribución de los porcentajes no presenta un grado de asimetría considerable."
   ]
  },
  {
   "cell_type": "markdown",
   "metadata": {
    "cell_id": "8d62fff25a1947df89ea937cf7801ec6",
    "deepnote_cell_type": "markdown",
    "id": "gInhzuawcY_G"
   },
   "source": [
    "## Ejercicio 2\n",
    " \n",
    "Considere los datos del archivo Excel adjunto; en él se muestran los datos de criminalidad, fondos policiales y educación de la población en las ciudades pequeñas de los Estados Unidos. Las variables `(X1, X2, X3, X4, X5, X6, X7)` representan la siguiente información para cada ciudad:\n",
    "\n",
    "* `X1` = Reporte total de criminalidad por millón de residentes.\n",
    "* `X2` = Tasa de crímenes violentos por 100.000 residentes.\n",
    "* `X3` = Fondos anuales policiales en dólares por habitante.\n",
    "* `X4` = Porcentaje de personas de 25 años o más con * bachillerato.\n",
    "* `X5` = Porcentaje de la población de 16 a 19 años sin bachillerato.\n",
    "* `X6` = Porcentaje de la población entre 18 a 24 años, que realiza estudios universitarios.\n",
    "* `X7` = Porcentaje de la población de 25 o más años con por lo menos 4 años de estudios universitarios."
   ]
  },
  {
   "cell_type": "markdown",
   "metadata": {
    "cell_id": "4899d4c8afab4794acd5b35c2bfea283",
    "deepnote_cell_type": "markdown",
    "tags": []
   },
   "source": [
    "Leemos los datos y los guardamos en el DataFrame `criminality_data`:"
   ]
  },
  {
   "cell_type": "code",
   "execution_count": null,
   "metadata": {
    "cell_id": "e83ae5a808a94c8aa12e056db9afda78",
    "deepnote_cell_type": "code",
    "deepnote_to_be_reexecuted": false,
    "execution_millis": 56,
    "execution_start": 1666896285921,
    "id": "O4Zq7OldgBDc",
    "source_hash": "384af1a0"
   },
   "outputs": [],
   "source": [
    "criminality_data = pd.read_csv('https://raw.githubusercontent.com/AnalisisDeBasesDatos/TallerEstadBasicaRegMultilineal/main/CriminalidadPequenasCiudades.csv')"
   ]
  },
  {
   "cell_type": "markdown",
   "metadata": {
    "cell_id": "d7694a2704de419d906f56e22f4eb01b",
    "deepnote_cell_type": "markdown",
    "tags": []
   },
   "source": [
    "### a. Análisis estadístico básico por variable\n",
    "\n",
    "Vamos a graficar la distribución de cada una de las variables y a calcular algunas estadísticas descriptivas de cada variable:"
   ]
  },
  {
   "cell_type": "code",
   "execution_count": null,
   "metadata": {
    "cell_id": "fe9078e5440246e98ce948b82e0bdaeb",
    "deepnote_cell_type": "code",
    "deepnote_to_be_reexecuted": false,
    "execution_millis": 1777,
    "execution_start": 1666896286029,
    "source_hash": "d998e23b",
    "tags": []
   },
   "outputs": [],
   "source": [
    "fig, axs = plt.subplots(3, 3)\n",
    "\n",
    "# Ajustar lista de subplots\n",
    "axs = [ax for axrow in axs for ax in axrow]\n",
    "axs[-2].axis('off')\n",
    "axs[-1].axis('off')\n",
    "\n",
    "for ((name, values), ax) in zip(criminality_data.items(), axs):\n",
    "    ax.set_title(name)\n",
    "    ax.hist(values)\n",
    "\n",
    "fig.tight_layout()\n",
    "plt.figure(figsize=(16, 7))\n",
    "plt.show()"
   ]
  },
  {
   "cell_type": "markdown",
   "metadata": {
    "cell_id": "e157580ed5734779812009e366e04c3e",
    "deepnote_cell_type": "markdown",
    "formattedRanges": [],
    "is_collapsed": false,
    "tags": []
   },
   "source": [
    "Usamos el metodo `describe` para obtener las medidas de centralidad y dispersión de cada variable."
   ]
  },
  {
   "cell_type": "code",
   "execution_count": null,
   "metadata": {
    "cell_id": "9ac5451c067348c0b800ff1aa3602e9d",
    "deepnote_cell_type": "code",
    "deepnote_to_be_reexecuted": false,
    "execution_millis": 872,
    "execution_start": 1666896286948,
    "source_hash": "2e36ba82",
    "tags": []
   },
   "outputs": [],
   "source": [
    "criminality_data.describe()"
   ]
  },
  {
   "cell_type": "markdown",
   "metadata": {
    "cell_id": "c8827e1ca8e7492a9ecca0f1009a5b1f",
    "deepnote_cell_type": "markdown",
    "tags": []
   },
   "source": [
    "### b. Matriz de calor para las correlaciones (de Pearson) entre pares de variables\n",
    "\n",
    "Calculamos las correlaciones dos-a-dos de cada variable de nuestro conjunto de datos usando el método `corr`."
   ]
  },
  {
   "cell_type": "code",
   "execution_count": null,
   "metadata": {
    "cell_id": "f2d1b9c6d23949d8a0f5c8751e06e323",
    "deepnote_cell_type": "code",
    "deepnote_to_be_reexecuted": false,
    "execution_millis": 850,
    "execution_start": 1666896287029,
    "source_hash": "5008bd7e",
    "tags": []
   },
   "outputs": [],
   "source": [
    "pearson_corr = criminality_data.corr()\n",
    "sns.heatmap(pearson_corr, annot=True)"
   ]
  },
  {
   "cell_type": "markdown",
   "metadata": {
    "cell_id": "f96927b3b0da4566840365c45bfd0b04",
    "deepnote_cell_type": "markdown",
    "tags": []
   },
   "source": [
    "Como es de esperarse, la matriz es simétrica y la diagonal siempre tiene la misma correlación (igual a 1.0)."
   ]
  },
  {
   "cell_type": "markdown",
   "metadata": {
    "cell_id": "104fa42956db4ac78393f336240814f6",
    "deepnote_cell_type": "markdown",
    "tags": []
   },
   "source": [
    "### c. Pares de variables con mayor correlación\n",
    "\n",
    "La gráfica anterior indica que los pares de variables `(X1, X2)` y `(X4, X7)` tienen la mayor correlación positiva, mientras que `(X5, X6)` tienen la mayor correlación negativa. Podemos ordenar esta información en un dataframe:"
   ]
  },
  {
   "cell_type": "code",
   "execution_count": null,
   "metadata": {
    "cell_id": "ecd708e4cf3840ec9bccf3205c67f6a5",
    "deepnote_cell_type": "code",
    "deepnote_to_be_reexecuted": false,
    "execution_millis": 3,
    "execution_start": 1666896287259,
    "source_hash": "fd038f1f",
    "tags": []
   },
   "outputs": [],
   "source": [
    "def find_most_correlated(df):\n",
    "    most_correlated = []\n",
    "    # Por cada variable...\n",
    "    for colname, col in df.items():\n",
    "        maxcorr = 0\n",
    "        varname = \"\"\n",
    "        # ...comparamos con cada otra variable\n",
    "        for rowname, corr in col.items():\n",
    "            # No nos interesa la correlación de una variable con sí misma\n",
    "            if colname != rowname:\n",
    "                # Comparamos valores absolutos, pero guardamos el valor con signo\n",
    "                if abs(corr) > abs(maxcorr):\n",
    "                    maxcorr = corr\n",
    "                    varname = rowname\n",
    "        most_correlated.append([colname, varname, maxcorr])\n",
    "    return sorted(most_correlated, key=lambda x: abs(x[2]), reverse=True)"
   ]
  },
  {
   "cell_type": "code",
   "execution_count": null,
   "metadata": {
    "cell_id": "feac1baa3d13492e86caed8f28056dbe",
    "deepnote_cell_type": "code",
    "deepnote_to_be_reexecuted": false,
    "execution_millis": 606,
    "execution_start": 1666896287277,
    "scrolled": true,
    "source_hash": "a9004f84",
    "tags": []
   },
   "outputs": [],
   "source": [
    "most_correlated = find_most_correlated(pearson_corr)\n",
    "pd.DataFrame(most_correlated, columns=[\"variable1\", \"variable2\", \"correlación\"])"
   ]
  },
  {
   "cell_type": "markdown",
   "metadata": {
    "cell_id": "a90934ecee24439d8800730d5e04e7d8",
    "deepnote_cell_type": "markdown",
    "tags": []
   },
   "source": [
    "### d. Análisis multilineal tomando como variable dependiente los fondos anuales policiales con las demás variables como variables predictoras. Indique la expresión que obtuvo."
   ]
  },
  {
   "cell_type": "code",
   "execution_count": null,
   "metadata": {
    "cell_id": "e16ab8d649df4f99b7b12359d88b50f9",
    "deepnote_cell_type": "code",
    "deepnote_to_be_reexecuted": false,
    "execution_millis": 2,
    "execution_start": 1666897206781,
    "source_hash": "d14987c2",
    "tags": []
   },
   "outputs": [],
   "source": [
    "# Variables dependientes\n",
    "X = pd.DataFrame(criminality_data[[col for col in criminality_data.columns if col != 'X3']]).values\n",
    "\n",
    "# Variable independiente\n",
    "Y = pd.DataFrame(criminality_data[['X3']]).values\n",
    "\n",
    "#Generamos una columna de unos y la insertamos como primera columna de X\n",
    "Unos = np.ones(len(criminality_data))\n",
    "X = np.insert(X, 0, Unos, axis=1)\n",
    "MPenrouse = np.linalg.pinv(np.matmul(X.transpose(),X)) # Cálculo de la seudo-inversa de More-Penrose\n",
    "C = np.matmul(MPenrouse,X.transpose())\n",
    "B = np.matmul(C,Y)\n",
    "print(B)"
   ]
  },
  {
   "cell_type": "markdown",
   "metadata": {
    "cell_id": "c71de92baee446dfb9b7a3e3139edfab",
    "deepnote_cell_type": "markdown",
    "tags": []
   },
   "source": [
    "Por lo tanto el modelo se puede expresar mediante la igualdad:\n",
    "$$\n",
    "X3 = -4.864 + 0.012\\cdot X1 + 0.005\\cdot X2 + 0.279\\cdot X4 + 0.626\\cdot X5 - 0.194\\cdot X6 + 0.719\\cdot X7\n",
    "$$"
   ]
  },
  {
   "cell_type": "markdown",
   "metadata": {
    "cell_id": "4632a6fac62345e3a2240238564cc295",
    "deepnote_cell_type": "markdown",
    "tags": []
   },
   "source": [
    "### e. Variables predictoras con mayor impacto sobre la variable independiente"
   ]
  },
  {
   "cell_type": "markdown",
   "metadata": {
    "cell_id": "ab8ceeb3e4944d0882843ea42738409b",
    "deepnote_cell_type": "markdown",
    "tags": []
   },
   "source": [
    "Segun el analisis de regresion que hicimos en el literal d. las variables predictoras con mayor impacto son aquellas con un coeficiente mayor, por lo tanto son las variables **X5 y X7**."
   ]
  },
  {
   "cell_type": "markdown",
   "metadata": {
    "cell_id": "43d9ed92f89e4ab2a34741e717c2fa5b",
    "deepnote_cell_type": "markdown",
    "tags": []
   },
   "source": [
    "### f. Análisis de regresión lineal simple entre los fondos anuales reales y los predichos por el modelo."
   ]
  },
  {
   "cell_type": "markdown",
   "metadata": {
    "cell_id": "f50f1a70bdf04f4bb7c70c479c8b1aae",
    "deepnote_cell_type": "markdown",
    "tags": []
   },
   "source": [
    "A continuación ajustamos una regresión lineal simple entre los fondos anulaes reales y los predichos:"
   ]
  },
  {
   "cell_type": "code",
   "execution_count": null,
   "metadata": {
    "cell_id": "a6acfa0a7e6b466ba338739a20334bd5",
    "deepnote_cell_type": "code",
    "deepnote_to_be_reexecuted": false,
    "execution_millis": 455,
    "execution_start": 1666897212267,
    "source_hash": "57739bff",
    "tags": []
   },
   "outputs": [],
   "source": [
    "Y_pred = np.matmul(X,B)\n",
    "a = np.inner(Y_pred,Y_pred)\n",
    "b = np.sum(Y_pred)\n",
    "c = np.inner(Y_pred,Y)\n",
    "d = np.sum(Y)\n",
    "N = len(Y_pred)\n",
    "Delta = a*N-b*b\n",
    "A =(N*c-b*d)/Delta\n",
    "B =(a*d-b*c)/Delta\n",
    "Y_p = A*Y+B #Y_p es la Y predicha por el modelo de regresión simple\n",
    "            #Y_pred es la Y predicha por el modelo de regresión múltiple\n",
    "plt.grid(True)            \n",
    "plt.scatter(Y,Y_pred, color='red')\n",
    "plt.plot(Y,Y_p, color='blue')\n",
    "plt.show()"
   ]
  },
  {
   "cell_type": "markdown",
   "metadata": {
    "cell_id": "a0b0dfb2ff424a038c1fca341201de7c",
    "deepnote_cell_type": "markdown",
    "tags": []
   },
   "source": [
    "### g. Modelo de regresión multilineal para los índices criminalidad y el grado de escolaridad de la población"
   ]
  },
  {
   "cell_type": "code",
   "execution_count": null,
   "metadata": {
    "cell_id": "c28b88531fc04314a627e2ceef7c3d01",
    "deepnote_cell_type": "code",
    "deepnote_to_be_reexecuted": false,
    "execution_millis": 2,
    "execution_start": 1666896287295,
    "source_hash": "9d4b2b2d",
    "tags": []
   },
   "outputs": [],
   "source": [
    "# Variables independientes\n",
    "X = pd.DataFrame(criminality_data[['X4', 'X5', 'X6', 'X7']]).values\n",
    "\n",
    "# Variable dependiente\n",
    "Y = pd.DataFrame(criminality_data[['X1']]).values"
   ]
  },
  {
   "cell_type": "code",
   "execution_count": null,
   "metadata": {
    "cell_id": "8b0045dbbd0e4be3adf7b9d83ab55291",
    "deepnote_cell_type": "code",
    "deepnote_to_be_reexecuted": false,
    "execution_millis": 554,
    "execution_start": 1666896287332,
    "source_hash": "c224100c",
    "tags": []
   },
   "outputs": [],
   "source": [
    "#Generamos una columna de unos y la insertamos como primera columna de X\n",
    "ones = np.ones(len(criminality_data))\n",
    "X = np.insert(X, 0, ones, axis=1)\n",
    "MPenrouse = np.linalg.pinv(np.matmul(X.transpose(),X)) # Cálculo de la seudo-inversa de More-Penrose\n",
    "C = np.matmul(MPenrouse,X.transpose())\n",
    "B = np.matmul(C,Y)\n",
    "print(B)"
   ]
  },
  {
   "cell_type": "markdown",
   "metadata": {
    "cell_id": "bbc67b5d4a084be3bdeada1b7a9f6f89",
    "deepnote_cell_type": "markdown",
    "tags": []
   },
   "source": [
    "Por lo tanto el modelo se puede expresar mediante la igualdad:\n",
    "$$\n",
    "X1 = 606.713 - 5.102\\cdot X4 + 15.124\\cdot X5 - 2.987\\cdot X6 + 19.367\\cdot X7\n",
    "$$"
   ]
  },
  {
   "cell_type": "markdown",
   "metadata": {
    "cell_id": "631fafd70040419ea0ac84e01e2ccd9a",
    "deepnote_cell_type": "markdown",
    "tags": []
   },
   "source": [
    "### h. ¿Es posible detectar datos atípicos en la base de datos?"
   ]
  },
  {
   "cell_type": "code",
   "execution_count": null,
   "metadata": {
    "cell_id": "2f434a28802446c3a28e3bfbdefabb6d",
    "deepnote_cell_type": "code",
    "deepnote_to_be_reexecuted": false,
    "execution_millis": 2,
    "execution_start": 1666899714737,
    "source_hash": "aa22307a",
    "tags": []
   },
   "outputs": [],
   "source": [
    "criminality_data.iqr()"
   ]
  },
  {
   "cell_type": "code",
   "execution_count": null,
   "metadata": {
    "cell_id": "ad888f083f4145fea1c800a3d3235166",
    "deepnote_cell_type": "code",
    "deepnote_to_be_reexecuted": false,
    "execution_millis": 1328,
    "execution_start": 1666899577801,
    "source_hash": "fc95002b",
    "tags": []
   },
   "outputs": [],
   "source": [
    "sns.boxplot(data=criminality_data)\n",
    "matplotlib.pyplot.show()"
   ]
  },
  {
   "cell_type": "code",
   "execution_count": null,
   "metadata": {
    "cell_id": "4445093b374e46e08dae9a17f259b316",
    "deepnote_cell_type": "code",
    "tags": []
   },
   "outputs": [],
   "source": []
  },
  {
   "cell_type": "markdown",
   "metadata": {
    "created_in_deepnote_cell": true,
    "deepnote_cell_type": "markdown",
    "tags": []
   },
   "source": [
    "<a style='text-decoration:none;line-height:16px;display:flex;color:#5B5B62;padding:10px;justify-content:end;' href='https://deepnote.com?utm_source=created-in-deepnote-cell&projectId=a48fd26b-8f06-44e6-b375-918c7d927261' target=\"_blank\">\n",
    "<img alt='Created in deepnote.com' style='display:inline;max-height:16px;margin:0px;margin-right:7.5px;' src='data:image/svg+xml;base64,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' > </img>\n",
    "Created in <span style='font-weight:600;margin-left:4px;'>Deepnote</span></a>"
   ]
  }
 ],
 "metadata": {
  "colab": {
   "provenance": []
  },
  "deepnote": {},
  "deepnote_execution_queue": [],
  "deepnote_notebook_id": "ef3f5d3cdb9a4cd8bbd34aa07fee81bf",
  "kernelspec": {
   "display_name": "Python 3 (ipykernel)",
   "language": "python",
   "name": "python3"
  },
  "language_info": {
   "codemirror_mode": {
    "name": "ipython",
    "version": 3
   },
   "file_extension": ".py",
   "mimetype": "text/x-python",
   "name": "python",
   "nbconvert_exporter": "python",
   "pygments_lexer": "ipython3",
   "version": "3.8.9"
  }
 },
 "nbformat": 4,
 "nbformat_minor": 1
}
